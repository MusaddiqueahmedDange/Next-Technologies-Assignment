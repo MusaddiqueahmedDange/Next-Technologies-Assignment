{
 "cells": [
  {
   "cell_type": "code",
   "execution_count": null,
   "metadata": {
    "ExecuteTime": {
     "start_time": "2021-03-15T08:33:49.956Z"
    }
   },
   "outputs": [
    {
     "name": "stdout",
     "output_type": "stream",
     "text": [
      " * Serving Flask app \"__main__\" (lazy loading)\n",
      " * Environment: production\n",
      "   WARNING: This is a development server. Do not use it in a production deployment.\n",
      "   Use a production WSGI server instead.\n",
      " * Debug mode: off\n"
     ]
    },
    {
     "name": "stderr",
     "output_type": "stream",
     "text": [
      "[nltk_data] Downloading package vader_lexicon to\n",
      "[nltk_data]     C:\\Users\\Musaddique\\AppData\\Roaming\\nltk_data...\n",
      "[nltk_data]   Package vader_lexicon is already up-to-date!\n",
      " * Running on http://127.0.0.1:5000/ (Press CTRL+C to quit)\n",
      "[2021-03-15 14:04:04,901] ERROR in app: Exception on / [GET]\n",
      "Traceback (most recent call last):\n",
      "  File \"C:\\Users\\Musaddique\\anaconda3\\lib\\site-packages\\flask\\app.py\", line 2447, in wsgi_app\n",
      "    response = self.full_dispatch_request()\n",
      "  File \"C:\\Users\\Musaddique\\anaconda3\\lib\\site-packages\\flask\\app.py\", line 1952, in full_dispatch_request\n",
      "    rv = self.handle_user_exception(e)\n",
      "  File \"C:\\Users\\Musaddique\\anaconda3\\lib\\site-packages\\flask\\app.py\", line 1821, in handle_user_exception\n",
      "    reraise(exc_type, exc_value, tb)\n",
      "  File \"C:\\Users\\Musaddique\\anaconda3\\lib\\site-packages\\flask\\_compat.py\", line 39, in reraise\n",
      "    raise value\n",
      "  File \"C:\\Users\\Musaddique\\anaconda3\\lib\\site-packages\\flask\\app.py\", line 1950, in full_dispatch_request\n",
      "    rv = self.dispatch_request()\n",
      "  File \"C:\\Users\\Musaddique\\anaconda3\\lib\\site-packages\\flask\\app.py\", line 1936, in dispatch_request\n",
      "    return self.view_functions[rule.endpoint](**req.view_args)\n",
      "  File \"<ipython-input-1-8ec82c882055>\", line 53, in home\n",
      "    return render_template(\"home.html\")\n",
      "  File \"C:\\Users\\Musaddique\\anaconda3\\lib\\site-packages\\flask\\templating.py\", line 137, in render_template\n",
      "    return _render(\n",
      "  File \"C:\\Users\\Musaddique\\anaconda3\\lib\\site-packages\\flask\\templating.py\", line 120, in _render\n",
      "    rv = template.render(context)\n",
      "  File \"C:\\Users\\Musaddique\\anaconda3\\lib\\site-packages\\jinja2\\environment.py\", line 1090, in render\n",
      "    self.environment.handle_exception()\n",
      "  File \"C:\\Users\\Musaddique\\anaconda3\\lib\\site-packages\\jinja2\\environment.py\", line 832, in handle_exception\n",
      "    reraise(*rewrite_traceback_stack(source=source))\n",
      "  File \"C:\\Users\\Musaddique\\anaconda3\\lib\\site-packages\\jinja2\\_compat.py\", line 28, in reraise\n",
      "    raise value.with_traceback(tb)\n",
      "  File \"C:\\Users\\Musaddique\\Downloads\\nextLabs\\nextLabs\\flask_app\\templates\\home.html\", line 23, in top-level template code\n",
      "    {% if context.error %}\n",
      "  File \"C:\\Users\\Musaddique\\anaconda3\\lib\\site-packages\\jinja2\\environment.py\", line 471, in getattr\n",
      "    return getattr(obj, attribute)\n",
      "jinja2.exceptions.UndefinedError: 'context' is undefined\n",
      "127.0.0.1 - - [15/Mar/2021 14:04:04] \"\u001b[35m\u001b[1mGET / HTTP/1.1\u001b[0m\" 500 -\n",
      "[2021-03-15 14:04:51,887] ERROR in app: Exception on / [GET]\n",
      "Traceback (most recent call last):\n",
      "  File \"C:\\Users\\Musaddique\\anaconda3\\lib\\site-packages\\flask\\app.py\", line 2447, in wsgi_app\n",
      "    response = self.full_dispatch_request()\n",
      "  File \"C:\\Users\\Musaddique\\anaconda3\\lib\\site-packages\\flask\\app.py\", line 1952, in full_dispatch_request\n",
      "    rv = self.handle_user_exception(e)\n",
      "  File \"C:\\Users\\Musaddique\\anaconda3\\lib\\site-packages\\flask\\app.py\", line 1821, in handle_user_exception\n",
      "    reraise(exc_type, exc_value, tb)\n",
      "  File \"C:\\Users\\Musaddique\\anaconda3\\lib\\site-packages\\flask\\_compat.py\", line 39, in reraise\n",
      "    raise value\n",
      "  File \"C:\\Users\\Musaddique\\anaconda3\\lib\\site-packages\\flask\\app.py\", line 1950, in full_dispatch_request\n",
      "    rv = self.dispatch_request()\n",
      "  File \"C:\\Users\\Musaddique\\anaconda3\\lib\\site-packages\\flask\\app.py\", line 1936, in dispatch_request\n",
      "    return self.view_functions[rule.endpoint](**req.view_args)\n",
      "  File \"<ipython-input-1-8ec82c882055>\", line 53, in home\n",
      "    return render_template(\"home.html\")\n",
      "  File \"C:\\Users\\Musaddique\\anaconda3\\lib\\site-packages\\flask\\templating.py\", line 137, in render_template\n",
      "    return _render(\n",
      "  File \"C:\\Users\\Musaddique\\anaconda3\\lib\\site-packages\\flask\\templating.py\", line 120, in _render\n",
      "    rv = template.render(context)\n",
      "  File \"C:\\Users\\Musaddique\\anaconda3\\lib\\site-packages\\jinja2\\environment.py\", line 1090, in render\n",
      "    self.environment.handle_exception()\n",
      "  File \"C:\\Users\\Musaddique\\anaconda3\\lib\\site-packages\\jinja2\\environment.py\", line 832, in handle_exception\n",
      "    reraise(*rewrite_traceback_stack(source=source))\n",
      "  File \"C:\\Users\\Musaddique\\anaconda3\\lib\\site-packages\\jinja2\\_compat.py\", line 28, in reraise\n",
      "    raise value.with_traceback(tb)\n",
      "  File \"C:\\Users\\Musaddique\\Downloads\\nextLabs\\nextLabs\\flask_app\\templates\\home.html\", line 23, in top-level template code\n",
      "    {% if context.error %}\n",
      "  File \"C:\\Users\\Musaddique\\anaconda3\\lib\\site-packages\\jinja2\\environment.py\", line 471, in getattr\n",
      "    return getattr(obj, attribute)\n",
      "jinja2.exceptions.UndefinedError: 'context' is undefined\n",
      "127.0.0.1 - - [15/Mar/2021 14:04:51] \"\u001b[35m\u001b[1mGET / HTTP/1.1\u001b[0m\" 500 -\n"
     ]
    }
   ],
   "source": [
    "from flask import Flask, render_template, request\n",
    "import os\n",
    "import pandas as pd\n",
    "import nltk\n",
    "nltk.download('vader_lexicon')\n",
    "from nltk.sentiment import SentimentIntensityAnalyzer\n",
    "sia = SentimentIntensityAnalyzer()\n",
    "\n",
    "app = Flask(__name__)\n",
    "UPLOAD_FOLDER = './static'\n",
    "app.config['UPLOAD_FOLDER'] = UPLOAD_FOLDER\n",
    "\n",
    "@app.route('/', methods=['GET', 'POST'])\n",
    "def home():\n",
    "    if request.method == \"POST\":\n",
    "            uploaded_file = request.files['file']\n",
    "            if uploaded_file.filename != '':\n",
    "                if uploaded_file.filename.split('.')[1] == 'csv':\n",
    "                    uploaded_file.save(os.path.join(app.config['UPLOAD_FOLDER'], uploaded_file.filename))\n",
    "                    data = pd.read_csv(os.path.join(app.config['UPLOAD_FOLDER'], uploaded_file.filename))\n",
    "                    os.remove(os.path.join(app.config['UPLOAD_FOLDER'], uploaded_file.filename))\n",
    "                    review_text = list(data['Text'])\n",
    "\n",
    "                    review_star = list(data['Star'])\n",
    "\n",
    "                    result = []\n",
    "                    for i,j in zip(review_text, review_star):\n",
    "                        if type(i) == str:\n",
    "                            sentiment = sia.polarity_scores(i)\n",
    "                            polarity  = sentiment['compound']\n",
    "                            neutral = sentiment['neu']\n",
    "                            positive = sentiment['pos']\n",
    "                            negative = sentiment['neg']\n",
    "                            if polarity <= 0.0 and negative > neutral and j > 3:\n",
    "                                #print(sia.polarity_scores(i),i, j)\n",
    "                                result.append([i,j])\n",
    "                            elif polarity >= 0.0 and positive > neutral and j < 2:\n",
    "                                #print(sia.polarity_scores(i),i, j)\n",
    "                                result.append([i,j])\n",
    "                    \n",
    "                    context = {\n",
    "                        \"result\" : result\n",
    "                    }\n",
    "                    return render_template(\"home.html\", context=context)\n",
    "\n",
    "                else:\n",
    "                    context = {\n",
    "                        \"error\" : \"Upload Only CSV File\"\n",
    "                    }\n",
    "                    return render_template(\"home.html\", context=context)\n",
    "    \n",
    "            \n",
    "    return render_template(\"home.html\")\n",
    "\n",
    "\n",
    "\n",
    "\n",
    "if __name__ == \"__main__\":\n",
    "    app.run()"
   ]
  },
  {
   "cell_type": "code",
   "execution_count": null,
   "metadata": {},
   "outputs": [],
   "source": []
  }
 ],
 "metadata": {
  "kernelspec": {
   "display_name": "Python 3",
   "language": "python",
   "name": "python3"
  },
  "language_info": {
   "codemirror_mode": {
    "name": "ipython",
    "version": 3
   },
   "file_extension": ".py",
   "mimetype": "text/x-python",
   "name": "python",
   "nbconvert_exporter": "python",
   "pygments_lexer": "ipython3",
   "version": "3.8.3"
  },
  "varInspector": {
   "cols": {
    "lenName": 16,
    "lenType": 16,
    "lenVar": 40
   },
   "kernels_config": {
    "python": {
     "delete_cmd_postfix": "",
     "delete_cmd_prefix": "del ",
     "library": "var_list.py",
     "varRefreshCmd": "print(var_dic_list())"
    },
    "r": {
     "delete_cmd_postfix": ") ",
     "delete_cmd_prefix": "rm(",
     "library": "var_list.r",
     "varRefreshCmd": "cat(var_dic_list()) "
    }
   },
   "types_to_exclude": [
    "module",
    "function",
    "builtin_function_or_method",
    "instance",
    "_Feature"
   ],
   "window_display": false
  }
 },
 "nbformat": 4,
 "nbformat_minor": 4
}
