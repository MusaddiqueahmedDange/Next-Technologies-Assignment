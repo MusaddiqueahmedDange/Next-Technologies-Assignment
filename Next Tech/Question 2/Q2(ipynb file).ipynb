{
 "cells": [
  {
   "cell_type": "code",
   "execution_count": 1,
   "metadata": {
    "ExecuteTime": {
     "end_time": "2021-03-15T08:29:44.330990Z",
     "start_time": "2021-03-15T08:28:57.579701Z"
    }
   },
   "outputs": [
    {
     "name": "stderr",
     "output_type": "stream",
     "text": [
      "[nltk_data] Downloading package vader_lexicon to\n",
      "[nltk_data]     C:\\Users\\Musaddique\\AppData\\Roaming\\nltk_data...\n",
      "[nltk_data]   Package vader_lexicon is already up-to-date!\n"
     ]
    },
    {
     "name": "stdout",
     "output_type": "stream",
     "text": [
      "{'neg': 0.326, 'neu': 0.206, 'pos': 0.467, 'compound': 0.2617} Okk kind but bad then brave 1\n",
      "{'neg': 0.73, 'neu': 0.27, 'pos': 0.0, 'compound': -0.4015} Not good! 4\n",
      "{'neg': 0.0, 'neu': 0.0, 'pos': 1.0, 'compound': 0.4404} Good 1\n",
      "{'neg': 0.0, 'neu': 0.0, 'pos': 1.0, 'compound': 0.4404} Good 1\n",
      "{'neg': 0.0, 'neu': 0.0, 'pos': 1.0, 'compound': 0.296} Ok 1\n",
      "{'neg': 0.0, 'neu': 0.0, 'pos': 1.0, 'compound': 0.6369} Best 1\n",
      "{'neg': 0.0, 'neu': 0.0, 'pos': 1.0, 'compound': 0.4404} Good 1\n",
      "{'neg': 0.0, 'neu': 0.0, 'pos': 1.0, 'compound': 0.4215} Nice 1\n",
      "{'neg': 0.546, 'neu': 0.23, 'pos': 0.224, 'compound': -0.5859} Good but bad pictures 5\n",
      "{'neg': 0.0, 'neu': 0.0, 'pos': 1.0, 'compound': 0.4404} Good 1\n",
      "{'neg': 0.0, 'neu': 0.0, 'pos': 1.0, 'compound': 0.4404} Good 1\n",
      "{'neg': 1.0, 'neu': 0.0, 'pos': 0.0, 'compound': -0.5423} Bad 5\n",
      "{'neg': 0.431, 'neu': 0.0, 'pos': 0.569, 'compound': 0.1779} No good 1\n",
      "{'neg': 0.706, 'neu': 0.294, 'pos': 0.0, 'compound': -0.3412} Not good 5\n",
      "{'neg': 0.0, 'neu': 0.0, 'pos': 1.0, 'compound': 0.4404} Good 1\n",
      "{'neg': 0.0, 'neu': 0.256, 'pos': 0.744, 'compound': 0.4404} Good serving 1\n",
      "{'neg': 0.0, 'neu': 0.0, 'pos': 1.0, 'compound': 0.3182} Fresh 1\n",
      "{'neg': 0.0, 'neu': 0.0, 'pos': 1.0, 'compound': 0.5719} Excellent 1\n",
      "{'neg': 0.524, 'neu': 0.476, 'pos': 0.0, 'compound': -0.296} No leer esto 5\n",
      "{'neg': 0.662, 'neu': 0.338, 'pos': 0.0, 'compound': -0.2411} Not sure 4\n",
      "{'neg': 0.778, 'neu': 0.222, 'pos': 0.0, 'compound': -0.5423} Bad experience 4\n",
      "{'neg': 0.524, 'neu': 0.476, 'pos': 0.0, 'compound': -0.296} No puedo actualizar 4\n",
      "{'neg': 1.0, 'neu': 0.0, 'pos': 0.0, 'compound': -0.4215} Useless 5\n",
      "{'neg': 0.0, 'neu': 0.303, 'pos': 0.697, 'compound': 0.3182} Cool app 1\n",
      "{'neg': 0.0, 'neu': 0.263, 'pos': 0.737, 'compound': 0.4215} Nice n fast 1\n",
      "{'neg': 0.0, 'neu': 0.0, 'pos': 1.0, 'compound': 0.4404} Good 1\n",
      "{'neg': 0.0, 'neu': 0.0, 'pos': 1.0, 'compound': 0.4215} Nice 1\n",
      "{'neg': 0.744, 'neu': 0.256, 'pos': 0.0, 'compound': -0.4404} Chrome misbehave 5\n",
      "{'neg': 0.662, 'neu': 0.338, 'pos': 0.0, 'compound': -0.2411} Not sure 5\n",
      "{'neg': 0.0, 'neu': 0.0, 'pos': 1.0, 'compound': 0.4404} Good 1\n",
      "{'neg': 0.0, 'neu': 0.192, 'pos': 0.808, 'compound': 0.6369} Best app 1\n",
      "{'neg': 0.0, 'neu': 0.426, 'pos': 0.574, 'compound': 0.4019} I wish i didnt update. 1\n",
      "{'neg': 0.0, 'neu': 0.0, 'pos': 1.0, 'compound': 0.6249} Great 1\n",
      "{'neg': 0.19, 'neu': 0.39, 'pos': 0.42, 'compound': 0.7939} I don't want my business shared with anyone. I have been violated. I want sharing my information off. Please clear sharing with everyone. 1\n",
      "{'neg': 0.0, 'neu': 0.0, 'pos': 1.0, 'compound': 0.4404} Good 1\n",
      "{'neg': 0.0, 'neu': 0.0, 'pos': 1.0, 'compound': 0.5994} super 1\n",
      "{'neg': 0.386, 'neu': 0.286, 'pos': 0.329, 'compound': -0.1027} app crash please fixed 5\n",
      "{'neg': 0.0, 'neu': 0.0, 'pos': 1.0, 'compound': 0.4215} Nice 1\n",
      "{'neg': 1.0, 'neu': 0.0, 'pos': 0.0, 'compound': -0.5994} No problems 5\n",
      "{'neg': 0.0, 'neu': 0.312, 'pos': 0.688, 'compound': 0.765} Is fast secure I love it 1\n",
      "{'neg': 0.0, 'neu': 0.0, 'pos': 1.0, 'compound': 0.4404} Good 1\n",
      "{'neg': 1.0, 'neu': 0.0, 'pos': 0.0, 'compound': -0.34} mistake 5\n",
      "{'neg': 0.592, 'neu': 0.408, 'pos': 0.0, 'compound': -0.4404} Sir block notification 5\n",
      "{'neg': 0.0, 'neu': 0.0, 'pos': 1.0, 'compound': 0.2023} Fine 1\n",
      "{'neg': 0.0, 'neu': 0.0, 'pos': 1.0, 'compound': 0.4404} Good 1\n",
      "{'neg': 0.574, 'neu': 0.426, 'pos': 0.0, 'compound': -0.4019} Update related problem 5\n",
      "{'neg': 0.0, 'neu': 0.323, 'pos': 0.677, 'compound': 0.6369} Best app ever 1\n",
      "{'neg': 0.0, 'neu': 0.0, 'pos': 1.0, 'compound': 0.4215} Nice 1\n",
      "{'neg': 0.558, 'neu': 0.442, 'pos': 0.0, 'compound': -0.5849} It's very bad app 5\n",
      "{'neg': 0.0, 'neu': 0.0, 'pos': 1.0, 'compound': 0.4404} Good 1\n",
      "{'neg': 0.0, 'neu': 0.407, 'pos': 0.593, 'compound': 0.743} Please update my Google Chrome app Please help 1\n",
      "{'neg': 0.53, 'neu': 0.47, 'pos': 0.0, 'compound': -0.3089} App not support 5\n",
      "{'neg': 0.0, 'neu': 0.0, 'pos': 1.0, 'compound': 0.6249} Great 1\n",
      "{'neg': 0.662, 'neu': 0.338, 'pos': 0.0, 'compound': -0.2411} Not sure. 4\n",
      "{'neg': 0.0, 'neu': 0.0, 'pos': 1.0, 'compound': 0.4404} Good 1\n",
      "{'neg': 0.0, 'neu': 0.238, 'pos': 0.762, 'compound': 0.4927} So good 1\n",
      "{'neg': 0.0, 'neu': 0.0, 'pos': 1.0, 'compound': 0.4404} Good 1\n",
      "{'neg': 0.0, 'neu': 0.323, 'pos': 0.677, 'compound': 0.6369} Best app ever 1\n",
      "{'neg': 1.0, 'neu': 0.0, 'pos': 0.0, 'compound': -0.3612} Sucks 5\n",
      "{'neg': 0.0, 'neu': 0.294, 'pos': 0.706, 'compound': 0.34} Value saching 1\n",
      "{'neg': 1.0, 'neu': 0.0, 'pos': 0.0, 'compound': -0.5423} Bad 4\n",
      "{'neg': 0.688, 'neu': 0.312, 'pos': 0.0, 'compound': -0.296} No comment 4\n",
      "{'neg': 0.697, 'neu': 0.303, 'pos': 0.0, 'compound': -0.3182} Boring app 5\n",
      "{'neg': 0.0, 'neu': 0.0, 'pos': 1.0, 'compound': 0.4404} Good 1\n",
      "{'neg': 1.0, 'neu': 0.0, 'pos': 0.0, 'compound': -0.5423} Bad 4\n",
      "{'neg': 0.0, 'neu': 0.256, 'pos': 0.744, 'compound': 0.4404} Good App 1\n",
      "{'neg': 0.0, 'neu': 0.0, 'pos': 1.0, 'compound': 0.4404} Good 1\n",
      "{'neg': 0.791, 'neu': 0.209, 'pos': 0.0, 'compound': -0.5849} Very bad 5\n",
      "{'neg': 0.0, 'neu': 0.0, 'pos': 1.0, 'compound': 0.4404} good 1\n",
      "{'neg': 0.486, 'neu': 0.139, 'pos': 0.375, 'compound': -0.2023} I need help bad 4\n",
      "{'neg': 0.524, 'neu': 0.476, 'pos': 0.0, 'compound': -0.296} No 1 surfing plateform😍 5\n",
      "{'neg': 0.671, 'neu': 0.329, 'pos': 0.0, 'compound': -0.2584} not secure 5\n",
      "{'neg': 0.0, 'neu': 0.408, 'pos': 0.592, 'compound': 0.4404} Google is better 1\n",
      "{'neg': 0.0, 'neu': 0.466, 'pos': 0.534, 'compound': 0.5319} I'm being stalked. HELP 1\n",
      "{'neg': 0.688, 'neu': 0.312, 'pos': 0.0, 'compound': -0.296} No update 5\n",
      "{'neg': 0.0, 'neu': 0.0, 'pos': 1.0, 'compound': 0.4215} Nice 1\n",
      "{'neg': 0.0, 'neu': 0.0, 'pos': 1.0, 'compound': 0.4404} Better 1\n",
      "{'neg': 0.0, 'neu': 0.0, 'pos': 1.0, 'compound': 0.3182} Cool 1\n",
      "{'neg': 0.0, 'neu': 0.0, 'pos': 1.0, 'compound': 0.4404} Good 1\n",
      "{'neg': 0.0, 'neu': 0.0, 'pos': 1.0, 'compound': 0.5719} Wonderful 1\n",
      "{'neg': 0.0, 'neu': 0.477, 'pos': 0.523, 'compound': 0.5096} Not updating Worst app 1\n",
      "{'neg': 0.875, 'neu': 0.125, 'pos': 0.0, 'compound': -0.7906} Bad Vare bad 5\n",
      "{'neg': 0.0, 'neu': 0.0, 'pos': 1.0, 'compound': 0.4404} Good 1\n",
      "{'neg': 0.0, 'neu': 0.0, 'pos': 1.0, 'compound': 0.5994} Super 1\n",
      "{'neg': 0.0, 'neu': 0.0, 'pos': 1.0, 'compound': 0.5719} Wonderful 1\n",
      "{'neg': 0.583, 'neu': 0.417, 'pos': 0.0, 'compound': -0.1027} keep freezing 5\n",
      "{'neg': 0.0, 'neu': 0.0, 'pos': 1.0, 'compound': 0.4404} Good 1\n",
      "{'neg': 0.0, 'neu': 0.361, 'pos': 0.639, 'compound': 0.6486} Nice app i like this app 1\n",
      "{'neg': 1.0, 'neu': 0.0, 'pos': 0.0, 'compound': -0.5423} Bad 5\n",
      "{'neg': 0.0, 'neu': 0.26, 'pos': 0.74, 'compound': 0.431} Not bad 1\n",
      "{'neg': 0.531, 'neu': 0.123, 'pos': 0.346, 'compound': -0.128} Nice no Download low 5\n",
      "{'neg': 0.0, 'neu': 0.0, 'pos': 1.0, 'compound': 0.4215} Nice 1\n",
      "{'neg': 0.688, 'neu': 0.312, 'pos': 0.0, 'compound': -0.296} No xxx 5\n",
      "{'neg': 0.0, 'neu': 0.0, 'pos': 1.0, 'compound': 0.4404} Good 1\n",
      "{'neg': 0.0, 'neu': 0.0, 'pos': 1.0, 'compound': 0.5719} Excellent 1\n",
      "{'neg': 0.0, 'neu': 0.0, 'pos': 1.0, 'compound': 0.6249} Awesome 1\n",
      "{'neg': 0.0, 'neu': 0.494, 'pos': 0.506, 'compound': 0.4728} its so fuccing helpful 1\n",
      "{'neg': 0.0, 'neu': 0.0, 'pos': 1.0, 'compound': 0.4404} Good 1\n",
      "{'neg': 0.0, 'neu': 0.145, 'pos': 0.855, 'compound': 0.7096} Good luck with 1\n",
      "{'neg': 0.0, 'neu': 0.484, 'pos': 0.516, 'compound': 0.4927} The App very good 1\n",
      "{'neg': 0.556, 'neu': 0.444, 'pos': 0.0, 'compound': -0.3612} Spam and virus 4\n",
      "{'neg': 0.0, 'neu': 0.256, 'pos': 0.744, 'compound': 0.4404} good app 1\n",
      "{'neg': 0.676, 'neu': 0.0, 'pos': 0.324, 'compound': -0.5267} Hell yeah 5\n",
      "{'neg': 0.688, 'neu': 0.312, 'pos': 0.0, 'compound': -0.296} No comments 5\n",
      "{'neg': 0.73, 'neu': 0.27, 'pos': 0.0, 'compound': -0.4019} Update problem 5\n",
      "{'neg': 0.0, 'neu': 0.253, 'pos': 0.747, 'compound': 0.7096} 😄😃☺😉😁😌 Good Luck To U 🎄 1\n",
      "{'neg': 0.0, 'neu': 0.465, 'pos': 0.535, 'compound': 0.3182} Taking Huge space 1\n",
      "{'neg': 0.0, 'neu': 0.233, 'pos': 0.767, 'compound': 0.5106} Free mb 1\n",
      "{'neg': 0.0, 'neu': 0.0, 'pos': 1.0, 'compound': 0.6369} Best 1\n",
      "{'neg': 0.73, 'neu': 0.27, 'pos': 0.0, 'compound': -0.4019} Update error 5\n",
      "{'neg': 0.0, 'neu': 0.0, 'pos': 1.0, 'compound': 0.296} Ok 1\n",
      "{'neg': 0.0, 'neu': 0.0, 'pos': 1.0, 'compound': 0.4404} Good 1\n"
     ]
    },
    {
     "ename": "AttributeError",
     "evalue": "'float' object has no attribute 'encode'",
     "output_type": "error",
     "traceback": [
      "\u001b[1;31m---------------------------------------------------------------------------\u001b[0m",
      "\u001b[1;31mAttributeError\u001b[0m                            Traceback (most recent call last)",
      "\u001b[1;32m<ipython-input-1-a977299a4c99>\u001b[0m in \u001b[0;36m<module>\u001b[1;34m\u001b[0m\n\u001b[0;32m     13\u001b[0m \u001b[1;33m\u001b[0m\u001b[0m\n\u001b[0;32m     14\u001b[0m \u001b[1;32mfor\u001b[0m \u001b[0mi\u001b[0m\u001b[1;33m,\u001b[0m\u001b[0mj\u001b[0m \u001b[1;32min\u001b[0m \u001b[0mzip\u001b[0m\u001b[1;33m(\u001b[0m\u001b[0mreview_text\u001b[0m\u001b[1;33m,\u001b[0m \u001b[0mreview_star\u001b[0m\u001b[1;33m)\u001b[0m\u001b[1;33m:\u001b[0m\u001b[1;33m\u001b[0m\u001b[1;33m\u001b[0m\u001b[0m\n\u001b[1;32m---> 15\u001b[1;33m     \u001b[0mpolarity\u001b[0m  \u001b[1;33m=\u001b[0m \u001b[0msia\u001b[0m\u001b[1;33m.\u001b[0m\u001b[0mpolarity_scores\u001b[0m\u001b[1;33m(\u001b[0m\u001b[0mi\u001b[0m\u001b[1;33m)\u001b[0m\u001b[1;33m[\u001b[0m\u001b[1;34m'compound'\u001b[0m\u001b[1;33m]\u001b[0m\u001b[1;33m\u001b[0m\u001b[1;33m\u001b[0m\u001b[0m\n\u001b[0m\u001b[0;32m     16\u001b[0m     \u001b[0mneutral\u001b[0m \u001b[1;33m=\u001b[0m \u001b[0msia\u001b[0m\u001b[1;33m.\u001b[0m\u001b[0mpolarity_scores\u001b[0m\u001b[1;33m(\u001b[0m\u001b[0mi\u001b[0m\u001b[1;33m)\u001b[0m\u001b[1;33m[\u001b[0m\u001b[1;34m'neu'\u001b[0m\u001b[1;33m]\u001b[0m\u001b[1;33m\u001b[0m\u001b[1;33m\u001b[0m\u001b[0m\n\u001b[0;32m     17\u001b[0m     \u001b[0mpositive\u001b[0m \u001b[1;33m=\u001b[0m \u001b[0msia\u001b[0m\u001b[1;33m.\u001b[0m\u001b[0mpolarity_scores\u001b[0m\u001b[1;33m(\u001b[0m\u001b[0mi\u001b[0m\u001b[1;33m)\u001b[0m\u001b[1;33m[\u001b[0m\u001b[1;34m'pos'\u001b[0m\u001b[1;33m]\u001b[0m\u001b[1;33m\u001b[0m\u001b[1;33m\u001b[0m\u001b[0m\n",
      "\u001b[1;32m~\\anaconda3\\lib\\site-packages\\nltk\\sentiment\\vader.py\u001b[0m in \u001b[0;36mpolarity_scores\u001b[1;34m(self, text)\u001b[0m\n\u001b[0;32m    358\u001b[0m         \"\"\"\n\u001b[0;32m    359\u001b[0m         \u001b[1;31m# text, words_and_emoticons, is_cap_diff = self.preprocess(text)\u001b[0m\u001b[1;33m\u001b[0m\u001b[1;33m\u001b[0m\u001b[1;33m\u001b[0m\u001b[0m\n\u001b[1;32m--> 360\u001b[1;33m         sentitext = SentiText(text, self.constants.PUNC_LIST,\n\u001b[0m\u001b[0;32m    361\u001b[0m                               self.constants.REGEX_REMOVE_PUNCTUATION)\n\u001b[0;32m    362\u001b[0m         \u001b[0msentiments\u001b[0m \u001b[1;33m=\u001b[0m \u001b[1;33m[\u001b[0m\u001b[1;33m]\u001b[0m\u001b[1;33m\u001b[0m\u001b[1;33m\u001b[0m\u001b[0m\n",
      "\u001b[1;32m~\\anaconda3\\lib\\site-packages\\nltk\\sentiment\\vader.py\u001b[0m in \u001b[0;36m__init__\u001b[1;34m(self, text, punc_list, regex_remove_punctuation)\u001b[0m\n\u001b[0;32m    268\u001b[0m     \u001b[1;32mdef\u001b[0m \u001b[0m__init__\u001b[0m\u001b[1;33m(\u001b[0m\u001b[0mself\u001b[0m\u001b[1;33m,\u001b[0m \u001b[0mtext\u001b[0m\u001b[1;33m,\u001b[0m \u001b[0mpunc_list\u001b[0m\u001b[1;33m,\u001b[0m \u001b[0mregex_remove_punctuation\u001b[0m\u001b[1;33m)\u001b[0m\u001b[1;33m:\u001b[0m\u001b[1;33m\u001b[0m\u001b[1;33m\u001b[0m\u001b[0m\n\u001b[0;32m    269\u001b[0m         \u001b[1;32mif\u001b[0m \u001b[1;32mnot\u001b[0m \u001b[0misinstance\u001b[0m\u001b[1;33m(\u001b[0m\u001b[0mtext\u001b[0m\u001b[1;33m,\u001b[0m \u001b[0mstr\u001b[0m\u001b[1;33m)\u001b[0m\u001b[1;33m:\u001b[0m\u001b[1;33m\u001b[0m\u001b[1;33m\u001b[0m\u001b[0m\n\u001b[1;32m--> 270\u001b[1;33m             \u001b[0mtext\u001b[0m \u001b[1;33m=\u001b[0m \u001b[0mstr\u001b[0m\u001b[1;33m(\u001b[0m\u001b[0mtext\u001b[0m\u001b[1;33m.\u001b[0m\u001b[0mencode\u001b[0m\u001b[1;33m(\u001b[0m\u001b[1;34m\"utf-8\"\u001b[0m\u001b[1;33m)\u001b[0m\u001b[1;33m)\u001b[0m\u001b[1;33m\u001b[0m\u001b[1;33m\u001b[0m\u001b[0m\n\u001b[0m\u001b[0;32m    271\u001b[0m         \u001b[0mself\u001b[0m\u001b[1;33m.\u001b[0m\u001b[0mtext\u001b[0m \u001b[1;33m=\u001b[0m \u001b[0mtext\u001b[0m\u001b[1;33m\u001b[0m\u001b[1;33m\u001b[0m\u001b[0m\n\u001b[0;32m    272\u001b[0m         \u001b[0mself\u001b[0m\u001b[1;33m.\u001b[0m\u001b[0mPUNC_LIST\u001b[0m \u001b[1;33m=\u001b[0m \u001b[0mpunc_list\u001b[0m\u001b[1;33m\u001b[0m\u001b[1;33m\u001b[0m\u001b[0m\n",
      "\u001b[1;31mAttributeError\u001b[0m: 'float' object has no attribute 'encode'"
     ]
    }
   ],
   "source": [
    "import pandas as pd\n",
    "import nltk\n",
    "nltk.download('vader_lexicon')\n",
    "from nltk.sentiment import SentimentIntensityAnalyzer\n",
    "sia = SentimentIntensityAnalyzer()\n",
    "\n",
    "\n",
    "data = pd.read_csv(\"./chrome_reviews.csv\")\n",
    "\n",
    "review_text = list(data['Text'])\n",
    "\n",
    "review_star = list(data['Star'])\n",
    "\n",
    "for i,j in zip(review_text, review_star):\n",
    "    polarity  = sia.polarity_scores(i)['compound']\n",
    "    neutral = sia.polarity_scores(i)['neu']\n",
    "    positive = sia.polarity_scores(i)['pos']\n",
    "    negative = sia.polarity_scores(i)['neg']\n",
    "    if polarity <= 0.0 and negative > neutral and j > 3:\n",
    "        print(sia.polarity_scores(i),i, j)\n",
    "    elif polarity >= 0.0 and positive > neutral and j < 2:\n",
    "        print(sia.polarity_scores(i),i, j)"
   ]
  },
  {
   "cell_type": "code",
   "execution_count": null,
   "metadata": {},
   "outputs": [],
   "source": []
  }
 ],
 "metadata": {
  "kernelspec": {
   "display_name": "Python 3",
   "language": "python",
   "name": "python3"
  },
  "language_info": {
   "codemirror_mode": {
    "name": "ipython",
    "version": 3
   },
   "file_extension": ".py",
   "mimetype": "text/x-python",
   "name": "python",
   "nbconvert_exporter": "python",
   "pygments_lexer": "ipython3",
   "version": "3.8.3"
  },
  "varInspector": {
   "cols": {
    "lenName": 16,
    "lenType": 16,
    "lenVar": 40
   },
   "kernels_config": {
    "python": {
     "delete_cmd_postfix": "",
     "delete_cmd_prefix": "del ",
     "library": "var_list.py",
     "varRefreshCmd": "print(var_dic_list())"
    },
    "r": {
     "delete_cmd_postfix": ") ",
     "delete_cmd_prefix": "rm(",
     "library": "var_list.r",
     "varRefreshCmd": "cat(var_dic_list()) "
    }
   },
   "types_to_exclude": [
    "module",
    "function",
    "builtin_function_or_method",
    "instance",
    "_Feature"
   ],
   "window_display": false
  }
 },
 "nbformat": 4,
 "nbformat_minor": 4
}
