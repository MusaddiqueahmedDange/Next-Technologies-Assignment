{
 "cells": [
  {
   "cell_type": "code",
   "execution_count": 8,
   "metadata": {
    "ExecuteTime": {
     "end_time": "2021-03-17T09:09:29.946459Z",
     "start_time": "2021-03-17T09:09:28.935289Z"
    }
   },
   "outputs": [],
   "source": [
    "import numpy as np \n",
    "import pandas as pd \n",
    "import seaborn as sns \n",
    "import matplotlib.pyplot as plt \n",
    "from scipy.stats import norm \n"
   ]
  },
  {
   "cell_type": "code",
   "execution_count": 3,
   "metadata": {
    "ExecuteTime": {
     "end_time": "2021-03-17T09:06:19.882615Z",
     "start_time": "2021-03-17T09:06:19.744042Z"
    }
   },
   "outputs": [],
   "source": [
    "df = pd.read_csv(\"browser_rankings_data.csv\")"
   ]
  },
  {
   "cell_type": "code",
   "execution_count": 4,
   "metadata": {
    "ExecuteTime": {
     "end_time": "2021-03-17T09:06:21.552976Z",
     "start_time": "2021-03-17T09:06:21.512690Z"
    }
   },
   "outputs": [
    {
     "data": {
      "text/html": [
       "<div>\n",
       "<style scoped>\n",
       "    .dataframe tbody tr th:only-of-type {\n",
       "        vertical-align: middle;\n",
       "    }\n",
       "\n",
       "    .dataframe tbody tr th {\n",
       "        vertical-align: top;\n",
       "    }\n",
       "\n",
       "    .dataframe thead th {\n",
       "        text-align: right;\n",
       "    }\n",
       "</style>\n",
       "<table border=\"1\" class=\"dataframe\">\n",
       "  <thead>\n",
       "    <tr style=\"text-align: right;\">\n",
       "      <th></th>\n",
       "      <th>ID</th>\n",
       "      <th>Keyword</th>\n",
       "      <th>Rank</th>\n",
       "      <th>Country</th>\n",
       "      <th>Language</th>\n",
       "      <th>Date</th>\n",
       "      <th>App ID</th>\n",
       "      <th>Date of Last Description Change</th>\n",
       "      <th>Short Description</th>\n",
       "      <th>Long Description</th>\n",
       "    </tr>\n",
       "  </thead>\n",
       "  <tbody>\n",
       "    <tr>\n",
       "      <th>0</th>\n",
       "      <td>1</td>\n",
       "      <td>browser</td>\n",
       "      <td>2.0</td>\n",
       "      <td>in</td>\n",
       "      <td>en</td>\n",
       "      <td>16-12-2020</td>\n",
       "      <td>net.fast.web.browser</td>\n",
       "      <td>18-12-2020</td>\n",
       "      <td>The small, fastest, secure Web Browser, best m...</td>\n",
       "      <td>One of the smallest, fastest, secure Web Brows...</td>\n",
       "    </tr>\n",
       "    <tr>\n",
       "      <th>1</th>\n",
       "      <td>2</td>\n",
       "      <td>browser</td>\n",
       "      <td>3.0</td>\n",
       "      <td>in</td>\n",
       "      <td>en</td>\n",
       "      <td>16-12-2020</td>\n",
       "      <td>com.android.chrome</td>\n",
       "      <td>18-12-2020</td>\n",
       "      <td>Fast, simple, and secure. Google Chrome browse...</td>\n",
       "      <td>Google Chrome is a fast, easy to use, and secu...</td>\n",
       "    </tr>\n",
       "    <tr>\n",
       "      <th>2</th>\n",
       "      <td>3</td>\n",
       "      <td>browser</td>\n",
       "      <td>4.0</td>\n",
       "      <td>in</td>\n",
       "      <td>en</td>\n",
       "      <td>16-12-2020</td>\n",
       "      <td>com.opera.browser</td>\n",
       "      <td>27-02-2021</td>\n",
       "      <td>Fast, safe web browser: free VPN, Ad blocker, ...</td>\n",
       "      <td>Fast, safe and private, introducing the latest...</td>\n",
       "    </tr>\n",
       "    <tr>\n",
       "      <th>3</th>\n",
       "      <td>3</td>\n",
       "      <td>browser</td>\n",
       "      <td>4.0</td>\n",
       "      <td>in</td>\n",
       "      <td>en</td>\n",
       "      <td>16-12-2020</td>\n",
       "      <td>com.opera.browser</td>\n",
       "      <td>18-12-2020</td>\n",
       "      <td>Fast, safe web browser: free VPN, Ad blocker, ...</td>\n",
       "      <td>Opera is a fast, safe web browser for your And...</td>\n",
       "    </tr>\n",
       "    <tr>\n",
       "      <th>4</th>\n",
       "      <td>4</td>\n",
       "      <td>browser</td>\n",
       "      <td>1.0</td>\n",
       "      <td>in</td>\n",
       "      <td>en</td>\n",
       "      <td>16-12-2020</td>\n",
       "      <td>com.cloudmosa.puffinTV</td>\n",
       "      <td>07-02-2021</td>\n",
       "      <td>Puffin TV Browser - One App to Watch All Video...</td>\n",
       "      <td>Puffin TV Browser is a special edition of Puff...</td>\n",
       "    </tr>\n",
       "    <tr>\n",
       "      <th>...</th>\n",
       "      <td>...</td>\n",
       "      <td>...</td>\n",
       "      <td>...</td>\n",
       "      <td>...</td>\n",
       "      <td>...</td>\n",
       "      <td>...</td>\n",
       "      <td>...</td>\n",
       "      <td>...</td>\n",
       "      <td>...</td>\n",
       "      <td>...</td>\n",
       "    </tr>\n",
       "    <tr>\n",
       "      <th>3061</th>\n",
       "      <td>131575</td>\n",
       "      <td>android browser</td>\n",
       "      <td>7.0</td>\n",
       "      <td>in</td>\n",
       "      <td>en</td>\n",
       "      <td>06-03-2021</td>\n",
       "      <td>com.opera.browser</td>\n",
       "      <td>18-12-2020</td>\n",
       "      <td>Fast, safe web browser: free VPN, Ad blocker, ...</td>\n",
       "      <td>Opera is a fast, safe web browser for your And...</td>\n",
       "    </tr>\n",
       "    <tr>\n",
       "      <th>3062</th>\n",
       "      <td>131576</td>\n",
       "      <td>android browser</td>\n",
       "      <td>5.0</td>\n",
       "      <td>in</td>\n",
       "      <td>en</td>\n",
       "      <td>06-03-2021</td>\n",
       "      <td>com.cloudmosa.puffinTV</td>\n",
       "      <td>07-02-2021</td>\n",
       "      <td>Puffin TV Browser - One App to Watch All Video...</td>\n",
       "      <td>Puffin TV Browser is a special edition of Puff...</td>\n",
       "    </tr>\n",
       "    <tr>\n",
       "      <th>3063</th>\n",
       "      <td>131576</td>\n",
       "      <td>android browser</td>\n",
       "      <td>5.0</td>\n",
       "      <td>in</td>\n",
       "      <td>en</td>\n",
       "      <td>06-03-2021</td>\n",
       "      <td>com.cloudmosa.puffinTV</td>\n",
       "      <td>06-02-2021</td>\n",
       "      <td>Puffin TV Browser - One App to Watch All Video...</td>\n",
       "      <td>Puffin TV Browser is a special edition of Puff...</td>\n",
       "    </tr>\n",
       "    <tr>\n",
       "      <th>3064</th>\n",
       "      <td>131576</td>\n",
       "      <td>android browser</td>\n",
       "      <td>5.0</td>\n",
       "      <td>in</td>\n",
       "      <td>en</td>\n",
       "      <td>06-03-2021</td>\n",
       "      <td>com.cloudmosa.puffinTV</td>\n",
       "      <td>21-01-2021</td>\n",
       "      <td>Puffin TV Browser - One App to Watch All Video...</td>\n",
       "      <td>Puffin TV Browser is a special edition of Puff...</td>\n",
       "    </tr>\n",
       "    <tr>\n",
       "      <th>3065</th>\n",
       "      <td>131576</td>\n",
       "      <td>android browser</td>\n",
       "      <td>5.0</td>\n",
       "      <td>in</td>\n",
       "      <td>en</td>\n",
       "      <td>06-03-2021</td>\n",
       "      <td>com.cloudmosa.puffinTV</td>\n",
       "      <td>18-12-2020</td>\n",
       "      <td>Puffin TV Browser - One App to Watch All Video...</td>\n",
       "      <td>Puffin TV Browser is a special edition of Puff...</td>\n",
       "    </tr>\n",
       "  </tbody>\n",
       "</table>\n",
       "<p>3066 rows × 10 columns</p>\n",
       "</div>"
      ],
      "text/plain": [
       "          ID          Keyword  Rank Country Language        Date  \\\n",
       "0          1          browser   2.0      in       en  16-12-2020   \n",
       "1          2          browser   3.0      in       en  16-12-2020   \n",
       "2          3          browser   4.0      in       en  16-12-2020   \n",
       "3          3          browser   4.0      in       en  16-12-2020   \n",
       "4          4          browser   1.0      in       en  16-12-2020   \n",
       "...      ...              ...   ...     ...      ...         ...   \n",
       "3061  131575  android browser   7.0      in       en  06-03-2021   \n",
       "3062  131576  android browser   5.0      in       en  06-03-2021   \n",
       "3063  131576  android browser   5.0      in       en  06-03-2021   \n",
       "3064  131576  android browser   5.0      in       en  06-03-2021   \n",
       "3065  131576  android browser   5.0      in       en  06-03-2021   \n",
       "\n",
       "                      App ID Date of Last Description Change  \\\n",
       "0       net.fast.web.browser                      18-12-2020   \n",
       "1         com.android.chrome                      18-12-2020   \n",
       "2          com.opera.browser                      27-02-2021   \n",
       "3          com.opera.browser                      18-12-2020   \n",
       "4     com.cloudmosa.puffinTV                      07-02-2021   \n",
       "...                      ...                             ...   \n",
       "3061       com.opera.browser                      18-12-2020   \n",
       "3062  com.cloudmosa.puffinTV                      07-02-2021   \n",
       "3063  com.cloudmosa.puffinTV                      06-02-2021   \n",
       "3064  com.cloudmosa.puffinTV                      21-01-2021   \n",
       "3065  com.cloudmosa.puffinTV                      18-12-2020   \n",
       "\n",
       "                                      Short Description  \\\n",
       "0     The small, fastest, secure Web Browser, best m...   \n",
       "1     Fast, simple, and secure. Google Chrome browse...   \n",
       "2     Fast, safe web browser: free VPN, Ad blocker, ...   \n",
       "3     Fast, safe web browser: free VPN, Ad blocker, ...   \n",
       "4     Puffin TV Browser - One App to Watch All Video...   \n",
       "...                                                 ...   \n",
       "3061  Fast, safe web browser: free VPN, Ad blocker, ...   \n",
       "3062  Puffin TV Browser - One App to Watch All Video...   \n",
       "3063  Puffin TV Browser - One App to Watch All Video...   \n",
       "3064  Puffin TV Browser - One App to Watch All Video...   \n",
       "3065  Puffin TV Browser - One App to Watch All Video...   \n",
       "\n",
       "                                       Long Description  \n",
       "0     One of the smallest, fastest, secure Web Brows...  \n",
       "1     Google Chrome is a fast, easy to use, and secu...  \n",
       "2     Fast, safe and private, introducing the latest...  \n",
       "3     Opera is a fast, safe web browser for your And...  \n",
       "4     Puffin TV Browser is a special edition of Puff...  \n",
       "...                                                 ...  \n",
       "3061  Opera is a fast, safe web browser for your And...  \n",
       "3062  Puffin TV Browser is a special edition of Puff...  \n",
       "3063  Puffin TV Browser is a special edition of Puff...  \n",
       "3064  Puffin TV Browser is a special edition of Puff...  \n",
       "3065  Puffin TV Browser is a special edition of Puff...  \n",
       "\n",
       "[3066 rows x 10 columns]"
      ]
     },
     "execution_count": 4,
     "metadata": {},
     "output_type": "execute_result"
    }
   ],
   "source": [
    "df"
   ]
  },
  {
   "cell_type": "code",
   "execution_count": 5,
   "metadata": {
    "ExecuteTime": {
     "end_time": "2021-03-17T09:06:39.931084Z",
     "start_time": "2021-03-17T09:06:39.914810Z"
    }
   },
   "outputs": [
    {
     "data": {
      "text/plain": [
       "Index(['ID', 'Keyword', 'Rank', 'Country', 'Language', 'Date', 'App ID',\n",
       "       'Date of Last Description Change', 'Short Description',\n",
       "       'Long Description'],\n",
       "      dtype='object')"
      ]
     },
     "execution_count": 5,
     "metadata": {},
     "output_type": "execute_result"
    }
   ],
   "source": [
    "df.columns"
   ]
  },
  {
   "cell_type": "code",
   "execution_count": 6,
   "metadata": {
    "ExecuteTime": {
     "end_time": "2021-03-17T09:06:48.037184Z",
     "start_time": "2021-03-17T09:06:48.014880Z"
    }
   },
   "outputs": [
    {
     "data": {
      "text/plain": [
       "<bound method NDFrame.describe of           ID          Keyword  Rank Country Language        Date  \\\n",
       "0          1          browser   2.0      in       en  16-12-2020   \n",
       "1          2          browser   3.0      in       en  16-12-2020   \n",
       "2          3          browser   4.0      in       en  16-12-2020   \n",
       "3          3          browser   4.0      in       en  16-12-2020   \n",
       "4          4          browser   1.0      in       en  16-12-2020   \n",
       "...      ...              ...   ...     ...      ...         ...   \n",
       "3061  131575  android browser   7.0      in       en  06-03-2021   \n",
       "3062  131576  android browser   5.0      in       en  06-03-2021   \n",
       "3063  131576  android browser   5.0      in       en  06-03-2021   \n",
       "3064  131576  android browser   5.0      in       en  06-03-2021   \n",
       "3065  131576  android browser   5.0      in       en  06-03-2021   \n",
       "\n",
       "                      App ID Date of Last Description Change  \\\n",
       "0       net.fast.web.browser                      18-12-2020   \n",
       "1         com.android.chrome                      18-12-2020   \n",
       "2          com.opera.browser                      27-02-2021   \n",
       "3          com.opera.browser                      18-12-2020   \n",
       "4     com.cloudmosa.puffinTV                      07-02-2021   \n",
       "...                      ...                             ...   \n",
       "3061       com.opera.browser                      18-12-2020   \n",
       "3062  com.cloudmosa.puffinTV                      07-02-2021   \n",
       "3063  com.cloudmosa.puffinTV                      06-02-2021   \n",
       "3064  com.cloudmosa.puffinTV                      21-01-2021   \n",
       "3065  com.cloudmosa.puffinTV                      18-12-2020   \n",
       "\n",
       "                                      Short Description  \\\n",
       "0     The small, fastest, secure Web Browser, best m...   \n",
       "1     Fast, simple, and secure. Google Chrome browse...   \n",
       "2     Fast, safe web browser: free VPN, Ad blocker, ...   \n",
       "3     Fast, safe web browser: free VPN, Ad blocker, ...   \n",
       "4     Puffin TV Browser - One App to Watch All Video...   \n",
       "...                                                 ...   \n",
       "3061  Fast, safe web browser: free VPN, Ad blocker, ...   \n",
       "3062  Puffin TV Browser - One App to Watch All Video...   \n",
       "3063  Puffin TV Browser - One App to Watch All Video...   \n",
       "3064  Puffin TV Browser - One App to Watch All Video...   \n",
       "3065  Puffin TV Browser - One App to Watch All Video...   \n",
       "\n",
       "                                       Long Description  \n",
       "0     One of the smallest, fastest, secure Web Brows...  \n",
       "1     Google Chrome is a fast, easy to use, and secu...  \n",
       "2     Fast, safe and private, introducing the latest...  \n",
       "3     Opera is a fast, safe web browser for your And...  \n",
       "4     Puffin TV Browser is a special edition of Puff...  \n",
       "...                                                 ...  \n",
       "3061  Opera is a fast, safe web browser for your And...  \n",
       "3062  Puffin TV Browser is a special edition of Puff...  \n",
       "3063  Puffin TV Browser is a special edition of Puff...  \n",
       "3064  Puffin TV Browser is a special edition of Puff...  \n",
       "3065  Puffin TV Browser is a special edition of Puff...  \n",
       "\n",
       "[3066 rows x 10 columns]>"
      ]
     },
     "execution_count": 6,
     "metadata": {},
     "output_type": "execute_result"
    }
   ],
   "source": [
    "df.describe"
   ]
  },
  {
   "cell_type": "code",
   "execution_count": 16,
   "metadata": {
    "ExecuteTime": {
     "end_time": "2021-03-17T09:15:11.470212Z",
     "start_time": "2021-03-17T09:15:11.413183Z"
    }
   },
   "outputs": [
    {
     "data": {
      "text/plain": [
       "count    3050.000000\n",
       "mean       15.155738\n",
       "std        24.268403\n",
       "min         1.000000\n",
       "25%         2.000000\n",
       "50%         5.000000\n",
       "75%        16.000000\n",
       "max       134.000000\n",
       "Name: Rank, dtype: float64"
      ]
     },
     "execution_count": 16,
     "metadata": {},
     "output_type": "execute_result"
    }
   ],
   "source": [
    "df['Rank'].describe()"
   ]
  },
  {
   "cell_type": "code",
   "execution_count": 12,
   "metadata": {
    "ExecuteTime": {
     "end_time": "2021-03-17T09:11:12.269250Z",
     "start_time": "2021-03-17T09:11:12.113650Z"
    }
   },
   "outputs": [
    {
     "data": {
      "text/plain": [
       "<matplotlib.axes._subplots.AxesSubplot at 0x1f07eccdf70>"
      ]
     },
     "execution_count": 12,
     "metadata": {},
     "output_type": "execute_result"
    },
    {
     "data": {
      "image/png": "[encoded data removed]",
      "text/plain": [
       "<Figure size 648x576 with 2 Axes>"
      ]
     },
     "metadata": {
      "needs_background": "light"
     },
     "output_type": "display_data"
    }
   ],
   "source": [
    "corrmat = df.corr() \n",
    "\n",
    "f, ax = plt.subplots(figsize =(9, 8)) \n",
    "sns.heatmap(corrmat, ax = ax, cmap =\"YlGnBu\", linewidths = 0.1) \n"
   ]
  },
  {
   "cell_type": "code",
   "execution_count": 13,
   "metadata": {
    "ExecuteTime": {
     "end_time": "2021-03-17T09:11:44.287707Z",
     "start_time": "2021-03-17T09:11:43.830524Z"
    }
   },
   "outputs": [
    {
     "data": {
      "text/plain": [
       "<seaborn.matrix.ClusterGrid at 0x1f05107de80>"
      ]
     },
     "execution_count": 13,
     "metadata": {},
     "output_type": "execute_result"
    },
    {
     "data": {
      "image/png": "[encoded data removed]",
      "text/plain": [
       "<Figure size 720x720 with 4 Axes>"
      ]
     },
     "metadata": {
      "needs_background": "light"
     },
     "output_type": "display_data"
    }
   ],
   "source": [
    "corrmat = df.corr() \n",
    "\n",
    "cg = sns.clustermap(corrmat, cmap =\"YlGnBu\", linewidths = 0.1); \n",
    "plt.setp(cg.ax_heatmap.yaxis.get_majorticklabels(), rotation = 0) \n",
    "\n",
    "cg \n"
   ]
  },
  {
   "cell_type": "code",
   "execution_count": 15,
   "metadata": {
    "ExecuteTime": {
     "end_time": "2021-03-17T09:13:15.057916Z",
     "start_time": "2021-03-17T09:13:14.729880Z"
    }
   },
   "outputs": [
    {
     "data": {
      "text/plain": [
       "<matplotlib.axes._subplots.AxesSubplot at 0x1f019f02a30>"
      ]
     },
     "execution_count": 15,
     "metadata": {},
     "output_type": "execute_result"
    },
    {
     "data": {
      "image/png": "[encoded data removed]",
      "text/plain": [
       "<Figure size 864x720 with 2 Axes>"
      ]
     },
     "metadata": {
      "needs_background": "light"
     },
     "output_type": "display_data"
    }
   ],
   "source": [
    "# rank correlation matrix \n",
    "# k : number of variables for heatmap \n",
    "k = 15 \n",
    "  \n",
    "cols = corrmat.nlargest(k, 'Rank')['Rank'].index \n",
    "  \n",
    "cm = np.corrcoef(df[cols].values.T) \n",
    "f, ax = plt.subplots(figsize =(12, 10)) \n",
    "  \n",
    "sns.heatmap(cm, ax = ax, cmap =\"YlGnBu\", \n",
    "            linewidths = 0.1, yticklabels = cols.values,  \n",
    "                              xticklabels = cols.values) "
   ]
  },
  {
   "cell_type": "code",
   "execution_count": null,
   "metadata": {},
   "outputs": [],
   "source": []
  }
 ],
 "metadata": {
  "kernelspec": {
   "display_name": "Python 3",
   "language": "python",
   "name": "python3"
  },
  "language_info": {
   "codemirror_mode": {
    "name": "ipython",
    "version": 3
   },
   "file_extension": ".py",
   "mimetype": "text/x-python",
   "name": "python",
   "nbconvert_exporter": "python",
   "pygments_lexer": "ipython3",
   "version": "3.8.3"
  },
  "varInspector": {
   "cols": {
    "lenName": 16,
    "lenType": 16,
    "lenVar": 40
   },
   "kernels_config": {
    "python": {
     "delete_cmd_postfix": "",
     "delete_cmd_prefix": "del ",
     "library": "var_list.py",
     "varRefreshCmd": "print(var_dic_list())"
    },
    "r": {
     "delete_cmd_postfix": ") ",
     "delete_cmd_prefix": "rm(",
     "library": "var_list.r",
     "varRefreshCmd": "cat(var_dic_list()) "
    }
   },
   "types_to_exclude": [
    "module",
    "function",
    "builtin_function_or_method",
    "instance",
    "_Feature"
   ],
   "window_display": false
  }
 },
 "nbformat": 4,
 "nbformat_minor": 4
}
